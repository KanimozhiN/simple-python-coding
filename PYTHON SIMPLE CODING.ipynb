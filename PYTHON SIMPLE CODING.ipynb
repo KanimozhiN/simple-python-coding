{
 "cells": [
  {
   "cell_type": "markdown",
   "id": "7cab7ee2",
   "metadata": {},
   "source": [
    "### FIBONNACI SERIES"
   ]
  },
  {
   "cell_type": "code",
   "execution_count": 10,
   "id": "c850b24b",
   "metadata": {},
   "outputs": [
    {
     "name": "stdout",
     "output_type": "stream",
     "text": [
      "1st=1\n",
      "2nd=2\n",
      "numOfEle=13\n",
      "1 2 3 5 8 13 21 34 55 89 144 233 377 "
     ]
    }
   ],
   "source": [
    "a=int(input(\"1st=\"))\n",
    "b=int(input(\"2nd=\"))\n",
    "n=int(input(\"numOfEle=\"))\n",
    "print(a,b,end=\" \")\n",
    "while n-2:\n",
    "    c = a+b\n",
    "    a=b \n",
    "    b=c\n",
    "    print(c, end=\" \")\n",
    "    n=n-1\n"
   ]
  },
  {
   "cell_type": "markdown",
   "id": "6afe2545",
   "metadata": {},
   "source": [
    "##### OR"
   ]
  },
  {
   "cell_type": "code",
   "execution_count": 8,
   "id": "db3b59d0",
   "metadata": {},
   "outputs": [
    {
     "name": "stdout",
     "output_type": "stream",
     "text": [
      "13\n",
      "233\n"
     ]
    }
   ],
   "source": [
    "def f(n):\n",
    "    if n==0: \n",
    "        return 0\n",
    "    elif n==1: \n",
    "        return 1\n",
    "    else:\n",
    "        return f(n-1)+f(n-2)\n",
    "n=int(input())\n",
    "print(f(n))\n"
   ]
  },
  {
   "cell_type": "markdown",
   "id": "7407f5ae",
   "metadata": {},
   "source": [
    "### PALINDROME"
   ]
  },
  {
   "cell_type": "code",
   "execution_count": 23,
   "id": "9fc1cf9f",
   "metadata": {},
   "outputs": [
    {
     "name": "stdout",
     "output_type": "stream",
     "text": [
      "not a palindrome\n"
     ]
    }
   ],
   "source": [
    "n=\"series\" \n",
    "a=n[::-1]\n",
    "if a==n:\n",
    " print(\"palidrome\")\n",
    "else:\n",
    " print(\"not a palindrome\") "
   ]
  },
  {
   "cell_type": "markdown",
   "id": "02f7d8c6",
   "metadata": {},
   "source": [
    "### FACTORIAL"
   ]
  },
  {
   "cell_type": "code",
   "execution_count": 25,
   "id": "a8b28e6c",
   "metadata": {},
   "outputs": [
    {
     "name": "stdout",
     "output_type": "stream",
     "text": [
      "120\n"
     ]
    }
   ],
   "source": [
    "def fact(n):\n",
    "    if n==1:\n",
    "        return n\n",
    "    else:\n",
    "        return n*fact(n-1)\n",
    "print(fact(5))\n"
   ]
  },
  {
   "cell_type": "markdown",
   "id": "1cffdb62",
   "metadata": {},
   "source": [
    "### ARMSTRONG"
   ]
  },
  {
   "cell_type": "code",
   "execution_count": 26,
   "id": "d7044c4f",
   "metadata": {},
   "outputs": [
    {
     "name": "stdout",
     "output_type": "stream",
     "text": [
      "The given number 153 is armstrong number\n"
     ]
    }
   ],
   "source": [
    "n = 153 \n",
    "s = n  \n",
    "b = len(str(n))\n",
    "sum1 = 0\n",
    "while n != 0:\n",
    "    r = n % 10\n",
    "    sum1 = sum1+(r**b)\n",
    "    n = n//10\n",
    "if s == sum1:\n",
    "    print(\"The given number\", s, \"is armstrong number\")\n",
    "else:\n",
    "    print(\"The given number\", s, \"is not armstrong number\")"
   ]
  },
  {
   "cell_type": "markdown",
   "id": "daac4500",
   "metadata": {},
   "source": [
    "### PATTERN"
   ]
  },
  {
   "cell_type": "code",
   "execution_count": 27,
   "id": "f258c8b4",
   "metadata": {},
   "outputs": [
    {
     "name": "stdout",
     "output_type": "stream",
     "text": [
      "*\n",
      "**\n",
      "***\n",
      "****\n",
      "*****\n"
     ]
    }
   ],
   "source": [
    "def pypart(n):\n",
    "    myList = []\n",
    "    for i in range(1,n+1):\n",
    "        myList.append(\"*\"*i)\n",
    "    print(\"\\n\".join(myList))\n",
    " \n",
    "\n",
    "n = 5\n",
    "pypart(n)"
   ]
  },
  {
   "cell_type": "markdown",
   "id": "1c8f41f3",
   "metadata": {},
   "source": [
    "### LEAP YEAR"
   ]
  },
  {
   "cell_type": "code",
   "execution_count": 28,
   "id": "197d169d",
   "metadata": {},
   "outputs": [
    {
     "name": "stdout",
     "output_type": "stream",
     "text": [
      "Leap Year\n"
     ]
    }
   ],
   "source": [
    "def checkYear(year):\n",
    "    return (((year % 4 == 0) and (year % 100 != 0)) or (year % 400 == 0));\n",
    " \n",
    "year = 2000\n",
    "if(checkYear(year)):\n",
    "    print(\"Leap Year\")\n",
    "else:\n",
    "    print(\"Not a Leap Year\")"
   ]
  },
  {
   "cell_type": "markdown",
   "id": "37ed7b7f",
   "metadata": {},
   "source": [
    "### PRIME NUMBER"
   ]
  },
  {
   "cell_type": "code",
   "execution_count": 29,
   "id": "37b41969",
   "metadata": {},
   "outputs": [
    {
     "name": "stdout",
     "output_type": "stream",
     "text": [
      "true\n",
      "false\n"
     ]
    }
   ],
   "source": [
    "\n",
    "def isPrime(n):\n",
    "\n",
    "    if n <= 1:\n",
    "        return False\n",
    "  \n",
    "    \n",
    "    for i in range(2, n):\n",
    "        if n % i == 0:\n",
    "            return False;\n",
    "  \n",
    "    return True\n",
    "  \n",
    "\n",
    "print(\"true\") if isPrime(11) else print(\"false\")\n",
    "print(\"true\") if isPrime(14) else print(\"false\")\n",
    "  "
   ]
  },
  {
   "cell_type": "markdown",
   "id": "660b99ed",
   "metadata": {},
   "source": [
    "### AREA OF CIRCLE"
   ]
  },
  {
   "cell_type": "code",
   "execution_count": 30,
   "id": "402d31d7",
   "metadata": {},
   "outputs": [
    {
     "name": "stdout",
     "output_type": "stream",
     "text": [
      "Area is 78.550000\n"
     ]
    }
   ],
   "source": [
    "def findArea(r):\n",
    "    PI = 3.142\n",
    "    return PI * (r*r);\n",
    "\n",
    "print(\"Area is %.6f\" % findArea(5));"
   ]
  },
  {
   "cell_type": "code",
   "execution_count": null,
   "id": "04dc2ba3",
   "metadata": {},
   "outputs": [],
   "source": []
  }
 ],
 "metadata": {
  "kernelspec": {
   "display_name": "Python 3",
   "language": "python",
   "name": "python3"
  },
  "language_info": {
   "codemirror_mode": {
    "name": "ipython",
    "version": 3
   },
   "file_extension": ".py",
   "mimetype": "text/x-python",
   "name": "python",
   "nbconvert_exporter": "python",
   "pygments_lexer": "ipython3",
   "version": "3.8.8"
  }
 },
 "nbformat": 4,
 "nbformat_minor": 5
}
